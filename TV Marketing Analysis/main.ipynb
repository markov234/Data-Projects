{
 "cells": [
  {
   "cell_type": "code",
   "execution_count": null,
   "metadata": {},
   "outputs": [],
   "source": [
    "# TV Marketing Analysis\n",
    "# 9/4/24\n"
   ]
  },
  {
   "cell_type": "code",
   "execution_count": 1,
   "metadata": {},
   "outputs": [],
   "source": [
    "import csv\n",
    "import matplotlib.pyplot as plt\n",
    "\n",
    "from math import radians, cos, sin, asin, sqrt\n",
    "import requests\n",
    "import json\n",
    "import os\n",
    "import pandas as pd\n",
    "from pandas import DataFrame, Series\n",
    "\n",
    "import numpy as np\n"
   ]
  },
  {
   "cell_type": "code",
   "execution_count": null,
   "metadata": {},
   "outputs": [],
   "source": [
    "\n",
    "\n",
    "tv_file = open('tvmarketing.csv', encoding='utf-8')\n",
    "file_reader = csv.reader(tv_file)\n",
    "tv_data = list(file_reader)\n",
    "tv_file.close()\n",
    "header = tv_data[0]\n",
    "tv_data = tv_data[1:]\n",
    "\n",
    "# convert str to float/int types in columns having numerical values.\n",
    "for row in tv_data:\n",
    "    for idx in [4, 5, 6, 7, 8, 9, 10, 11, 12, 13, 14, 15, 16, 17, 18, 19, 20, 21, 22, 23]:\n",
    "        # Fill empty cell with 0 values.\n",
    "        if row[idx] == '':\n",
    "            row[idx] = 0\n",
    "        if idx in [4, 7, 9, 15, 16, 17]:\n",
    "            row[idx] = int(row[idx])\n",
    "        elif idx in [5, 6, 8, 10, 11, 12, 13, 14, 18, 19, 20, 21, 22, 23]:\n",
    "            row[idx] = float(row[idx])\n",
    "            \n",
    "            \n",
    "# Some of the records are erroneous, and I want to exclude them if they may mess up my analysis.\n",
    "\n",
    "# 1. Records that have \"Prop Unique Words\" as 1.0. No song has all unique words. Remove them from music_data.\n",
    "\n",
    "# Identify the index of the \"Prop Unique Words\" column\n",
    "prop_unique_words_index = header.index(\"Prop Unique Words\")\n",
    "\n",
    "# Filter out records with \"Prop Unique Words\" equal to 1.0\n",
    "music_data = [row for row in music_data if row[prop_unique_words_index] != 1.0]\n",
    "            \n",
    "    \n",
    "    \n",
    "    \n",
    "header\n",
    "\n",
    "music_data"
   ]
  },
  {
   "cell_type": "code",
   "execution_count": null,
   "metadata": {},
   "outputs": [],
   "source": []
  },
  {
   "cell_type": "code",
   "execution_count": null,
   "metadata": {},
   "outputs": [],
   "source": []
  },
  {
   "cell_type": "code",
   "execution_count": null,
   "metadata": {},
   "outputs": [],
   "source": []
  },
  {
   "cell_type": "code",
   "execution_count": null,
   "metadata": {},
   "outputs": [],
   "source": []
  },
  {
   "cell_type": "code",
   "execution_count": null,
   "metadata": {},
   "outputs": [],
   "source": []
  },
  {
   "cell_type": "code",
   "execution_count": null,
   "metadata": {},
   "outputs": [],
   "source": []
  },
  {
   "cell_type": "code",
   "execution_count": null,
   "metadata": {},
   "outputs": [],
   "source": []
  },
  {
   "cell_type": "code",
   "execution_count": null,
   "metadata": {},
   "outputs": [],
   "source": []
  }
 ],
 "metadata": {
  "kernelspec": {
   "display_name": "Python 3",
   "language": "python",
   "name": "python3"
  },
  "language_info": {
   "codemirror_mode": {
    "name": "ipython",
    "version": 3
   },
   "file_extension": ".py",
   "mimetype": "text/x-python",
   "name": "python",
   "nbconvert_exporter": "python",
   "pygments_lexer": "ipython3",
   "version": "3.11.2"
  }
 },
 "nbformat": 4,
 "nbformat_minor": 2
}
